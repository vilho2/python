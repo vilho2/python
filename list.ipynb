{
 "cells": [
  {
   "cell_type": "markdown",
   "metadata": {},
   "source": [
    "#exercise 1"
   ]
  },
  {
   "cell_type": "code",
   "execution_count": null,
   "metadata": {},
   "outputs": [
    {
     "name": "stdout",
     "output_type": "stream",
     "text": [
      "['table', 'chair,shelf', 'Sofa']\n",
      "chair,shelf\n",
      "Sofa\n"
     ]
    }
   ],
   "source": [
    "list = ['table','chair'',shelf','Sofa']\n",
    "print (list)\n",
    "print (list[1])\n",
    "for item in list:\n",
    "    if item == \"Sofa\":\n",
    "        print(item)\n",
    "\n"
   ]
  },
  {
   "cell_type": "markdown",
   "metadata": {},
   "source": [
    "#exercise 2"
   ]
  },
  {
   "cell_type": "code",
   "execution_count": 48,
   "metadata": {},
   "outputs": [
    {
     "name": "stdout",
     "output_type": "stream",
     "text": [
      "[94, 69, 4, 94, 96]\n",
      "357\n",
      "96\n"
     ]
    }
   ],
   "source": [
    "import random\n",
    "thrownDiceNumbers = [random.randint(1, 100) for _ in range(5)]\n",
    "print(thrownDiceNumbers)\n",
    "print(sum(thrownDiceNumbers))\n",
    "highest_value = max(thrownDiceNumbers)\n",
    "print(highest_value)"
   ]
  }
 ],
 "metadata": {
  "kernelspec": {
   "display_name": "Python 3",
   "language": "python",
   "name": "python3"
  },
  "language_info": {
   "codemirror_mode": {
    "name": "ipython",
    "version": 3
   },
   "file_extension": ".py",
   "mimetype": "text/x-python",
   "name": "python",
   "nbconvert_exporter": "python",
   "pygments_lexer": "ipython3",
   "version": "3.13.0"
  }
 },
 "nbformat": 4,
 "nbformat_minor": 2
}
