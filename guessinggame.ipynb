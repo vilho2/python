{
 "cells": [
  {
   "cell_type": "code",
   "execution_count": null,
   "metadata": {},
   "outputs": [],
   "source": [
    "name = [\"Tommi\"]\n",
    "firstletter = input (\"Can you guess my name: \")\n",
    "for x in name:\n",
    "    if x [0] == firstletter:\n",
    "        print (x)   \n",
    "guess = input (\"is that true?\")\n",
    "if guess == \"yes\":\n",
    "        print (\"Nice you guessed it right\")\n",
    "else: \n",
    "        print (\"Sorry you guessed it wrong\") \n"
   ]
  }
 ],
 "metadata": {
  "kernelspec": {
   "display_name": "Python 3",
   "language": "python",
   "name": "python3"
  },
  "language_info": {
   "codemirror_mode": {
    "name": "ipython",
    "version": 3
   },
   "file_extension": ".py",
   "mimetype": "text/x-python",
   "name": "python",
   "nbconvert_exporter": "python",
   "pygments_lexer": "ipython3",
   "version": "3.13.0"
  }
 },
 "nbformat": 4,
 "nbformat_minor": 2
}
