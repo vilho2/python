{
 "cells": [
  {
   "cell_type": "markdown",
   "metadata": {},
   "source": [
    "Here is printer app "
   ]
  },
  {
   "cell_type": "code",
   "execution_count": 2,
   "metadata": {},
   "outputs": [
    {
     "name": "stdout",
     "output_type": "stream",
     "text": [
      "Printer App\n",
      "this app was made by:\n",
      "Vilho\n",
      "this app was made by: Vilho\n",
      "the value of number1 is: 5\n",
      "the value of number2 is: 2\n",
      "10\n",
      "5 * 2 = 10\n",
      "10 + 12 = 22\n",
      "10 / 12 = 0.8333333333333334\n",
      "10 - 12 = -2\n"
     ]
    }
   ],
   "source": [
    "print (\"Printer App\")\n",
    "\n",
    "creator = \"Vilho\"\n",
    "print('this app was made by:')\n",
    "print(creator)\n",
    "print('this app was made by:', creator)\n",
    "number1 = 5\n",
    "number2 = 2\n",
    "multiplication: int = number1 * number2 \n",
    "#print(number1)\n",
    "print ('the value of number1 is:', number1)\n",
    "print ('the value of number2 is:', number2)\n",
    "print (multiplication)\n",
    "result = number1 * number2\n",
    "print (f\"{number1} * {number2} = {result}\") \n",
    "number1  = 10\n",
    "number2  = 12\n",
    "addition = number1 + number2\n",
    "print (f\"{number1} + {number2} = {addition}\")\n",
    "division = number1 / number2\n",
    "print(f\"{number1} / {number2} = {division}\")\n",
    "subtraction = number1 - number2\n",
    "print (f\"{number1} - {number2} = {subtraction}\")\n",
    "\n"
   ]
  }
 ],
 "metadata": {
  "kernelspec": {
   "display_name": "Python 3",
   "language": "python",
   "name": "python3"
  },
  "language_info": {
   "codemirror_mode": {
    "name": "ipython",
    "version": 3
   },
   "file_extension": ".py",
   "mimetype": "text/x-python",
   "name": "python",
   "nbconvert_exporter": "python",
   "pygments_lexer": "ipython3",
   "version": "3.13.0"
  }
 },
 "nbformat": 4,
 "nbformat_minor": 2
}
