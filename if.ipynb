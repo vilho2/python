{
 "cells": [
  {
   "cell_type": "code",
<<<<<<< HEAD
   "execution_count": null,
=======
   "execution_count": 10,
>>>>>>> 23acced6c338f56de95455ff7163a0c9a9f14620
   "metadata": {},
   "outputs": [
    {
     "name": "stdout",
     "output_type": "stream",
     "text": [
<<<<<<< HEAD
      "Both numbers are equal\n",
      "number1 is greater than number2\n",
      "number1 is greater than or equal to number2\n",
      "number1 is not equal to number2\n"
=======
      "The numbers are equal\n"
>>>>>>> 23acced6c338f56de95455ff7163a0c9a9f14620
     ]
    }
   ],
   "source": [
<<<<<<< HEAD
    "number1 = 10\n",
    "number2 = 10\n",
    "if (number1 == number2):\n",
    "    print(\"Both numbers are equal\")\n",
    "number1 = 20 \n",
    "if (number1 != number2):\n",
    "    print(\"number1 is greater than number2\")\n",
    "if (number1 >= number2):\n",
    "    print(\"number1 is greater than or equal to number2\")\n",
    "number1 = 5\n",
    "if (number1 <= number2):\n",
    "    print(\"number1 is not equal to number2\")\n"
=======
    "number1 = 1\n",
    "number2 = 1\n",
    "if number1 == number2:\n",
    "    print(\"The numbers are equal\")"
>>>>>>> 23acced6c338f56de95455ff7163a0c9a9f14620
   ]
  },
  {
   "cell_type": "code",
   "execution_count": null,
   "metadata": {},
<<<<<<< HEAD
=======
   "outputs": [],
   "source": []
  },
  {
   "cell_type": "code",
   "execution_count": 13,
   "metadata": {},
>>>>>>> 23acced6c338f56de95455ff7163a0c9a9f14620
   "outputs": [
    {
     "name": "stdout",
     "output_type": "stream",
     "text": [
<<<<<<< HEAD
      "All numbers are equal\n",
      "All numbers are equal or two numbers are equal\n",
      "number1 is greater than number2 and number3\n"
=======
      "The first number is greater\n",
      "The first number is greater or equal\n"
>>>>>>> 23acced6c338f56de95455ff7163a0c9a9f14620
     ]
    }
   ],
   "source": [
<<<<<<< HEAD
    "number1 = 10\n",
    "number2 = 10\n",
    "number3 = 10\n",
    "if (number1 == number2 and number1 == number3):\n",
    "    print(\"All numbers are equal\")\n",
    "if (number1 == number2 or number2 == number3):\n",
    "    print(\"All numbers are equal or two numbers are equal\")\n",
    "number1 = 30\n",
    "if (number1 > number2 and number1 > number3):\n",
    "    print(\"number1 is greater than number2 and number3\")\n",
    "if (number1 > number2 or number1 > number3):"
   ]
=======
    "number1 = 2 \n",
    "number2 = 1\n",
    "if number1 > number2:\n",
    "    print(\"The first number is greater\")\n",
    "if number1 >= number2:\n",
    "    print(\"The first number is greater or equal\")"
   ]
  },
  {
   "cell_type": "code",
   "execution_count": 20,
   "metadata": {},
   "outputs": [
    {
     "name": "stdout",
     "output_type": "stream",
     "text": [
      "The first number is not equal\n"
     ]
    }
   ],
   "source": [
    "number1 = 1\n",
    "number2 = 2\n",
    "if number1 <= number2:\n",
    "    print(\"The first number is not equal\")"
   ]
  },
  {
   "cell_type": "code",
   "execution_count": null,
   "metadata": {},
   "outputs": [],
   "source": []
>>>>>>> 23acced6c338f56de95455ff7163a0c9a9f14620
  }
 ],
 "metadata": {
  "kernelspec": {
   "display_name": "Python 3",
   "language": "python",
   "name": "python3"
  },
  "language_info": {
   "codemirror_mode": {
    "name": "ipython",
    "version": 3
   },
   "file_extension": ".py",
   "mimetype": "text/x-python",
   "name": "python",
   "nbconvert_exporter": "python",
   "pygments_lexer": "ipython3",
   "version": "3.13.0"
  }
 },
 "nbformat": 4,
 "nbformat_minor": 2
}
