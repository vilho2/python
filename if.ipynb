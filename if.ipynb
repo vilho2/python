{
 "cells": [
  {
   "cell_type": "code",
   "execution_count": null,
   "metadata": {},
   "outputs": [
    {
     "name": "stdout",
     "output_type": "stream",
     "text": [
      "Both numbers are equal\n",
      "number1 is greater than number2\n",
      "number1 is greater than or equal to number2\n",
      "number1 is not equal to number2\n"
     ]
    }
   ],
   "source": [
    "number1 = 10\n",
    "number2 = 10\n",
    "if (number1 == number2):\n",
    "    print(\"Both numbers are equal\")\n",
    "number1 = 20 \n",
    "if (number1 != number2):\n",
    "    print(\"number1 is greater than number2\")\n",
    "if (number1 >= number2):\n",
    "    print(\"number1 is greater than or equal to number2\")\n",
    "number1 = 5\n",
    "if (number1 <= number2):\n",
    "    print(\"number1 is not equal to number2\")\n"
   ]
  },
  {
   "cell_type": "code",
   "execution_count": null,
   "metadata": {},
   "outputs": [
    {
     "name": "stdout",
     "output_type": "stream",
     "text": [
      "All numbers are equal\n",
      "All numbers are equal or two numbers are equal\n",
      "number1 is greater than number2 and number3\n"
     ]
    }
   ],
   "source": [
    "number1 = 10\n",
    "number2 = 10\n",
    "number3 = 10\n",
    "if (number1 == number2 and number1 == number3):\n",
    "    print(\"All numbers are equal\")\n",
    "if (number1 == number2 or number2 == number3):\n",
    "    print(\"All numbers are equal or two numbers are equal\")\n",
    "number1 = 30\n",
    "if (number1 > number2 and number1 > number3):\n",
    "    print(\"number1 is greater than number2 and number3\")\n",
    "if (number1 > number2 or number1 > number3):"
   ]
  }
 ],
 "metadata": {
  "kernelspec": {
   "display_name": "Python 3",
   "language": "python",
   "name": "python3"
  },
  "language_info": {
   "codemirror_mode": {
    "name": "ipython",
    "version": 3
   },
   "file_extension": ".py",
   "mimetype": "text/x-python",
   "name": "python",
   "nbconvert_exporter": "python",
   "pygments_lexer": "ipython3",
   "version": "3.13.0"
  }
 },
 "nbformat": 4,
 "nbformat_minor": 2
}
